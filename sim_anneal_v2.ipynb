{
 "cells": [
  {
   "cell_type": "markdown",
   "metadata": {},
   "source": [
    "# Initialize   "
   ]
  },
  {
   "cell_type": "code",
   "execution_count": 1,
   "metadata": {},
   "outputs": [],
   "source": [
    "import numpy as np\n",
    "import random\n",
    "from scipy.integrate import odeint\n",
    "import matplotlib.pyplot as plt\n",
    "import pandas as pd\n",
    "from sklearn.metrics import r2_score"
   ]
  },
  {
   "cell_type": "markdown",
   "metadata": {},
   "source": [
    "# SEIR Class"
   ]
  },
  {
   "cell_type": "code",
   "execution_count": 2,
   "metadata": {},
   "outputs": [],
   "source": [
    "class SEIRModel:\n",
    "    def __init__(self, population, beta, sigma, gamma):\n",
    "        self.population = population\n",
    "        self.beta = beta\n",
    "        self.sigma = sigma\n",
    "        self.gamma = gamma\n",
    "        self.s = 100 \n",
    "        self.e = 10\n",
    "        self.i = 0\n",
    "        self.r = 0\n",
    "\n",
    "    def step(self):\n",
    "        new_infections = self.beta * self.s * self.i / self.population\n",
    "        new_exposed = new_infections\n",
    "        new_recovered = self.gamma * self.i\n",
    "        self.s -= new_infections\n",
    "        self.e += new_exposed\n",
    "        self.i += new_infections - new_recovered\n",
    "        self.r += new_recovered\n",
    "\n",
    "    def get_infected(self):\n",
    "        return int(self.i)\n",
    "\n",
    "    def __call__(self, y, t, N, beta, sigma, gamma):\n",
    "        S, E, I, R = y\n",
    "        dSdt = -beta * S * I / N\n",
    "        dEdt = beta * S * I / N - sigma * E\n",
    "        dIdt = sigma * E - gamma * I\n",
    "        dRdt = gamma * I\n",
    "        return dSdt, dEdt, dIdt, dRdt"
   ]
  },
  {
   "cell_type": "markdown",
   "metadata": {},
   "source": [
    "# Load data"
   ]
  },
  {
   "cell_type": "code",
   "execution_count": 3,
   "metadata": {},
   "outputs": [],
   "source": [
    "def load_df(data_name: str) -> pd.DataFrame:\n",
    "  path = f\"nb_datasets/{data_name}\"\n",
    "\n",
    "  df:pd.DataFrame = pd.read_csv(path)\n",
    "\n",
    "  # ensure sort by date\n",
    "  df['date'] = pd.to_datetime(df['date'], dayfirst=True, format='%d/%m/%Y')\n",
    "  df_sorted: pd.DataFrame = df.sort_values(by='date')\n",
    "  \n",
    "  return df_sorted"
   ]
  },
  {
   "cell_type": "markdown",
   "metadata": {},
   "source": [
    "# Split data"
   ]
  },
  {
   "cell_type": "code",
   "execution_count": 4,
   "metadata": {},
   "outputs": [],
   "source": [
    "def load_observed(df: pd.DataFrame, brgy_name: str) -> pd.DataFrame:\n",
    "  \n",
    "  df_sorted: pd.DataFrame = df[df['barangay_Res'] == brgy_name]\n",
    "\n",
    "  # keep relevant cols\n",
    "  keep_cols = [\"date\", \"count_Exposed\", \"count_Infectious\", \"count_Recovered\"]\n",
    "  main_df: pd.DataFrame = df_sorted[df_sorted.columns.intersection(keep_cols)]\n",
    "\n",
    "  # Observed data (e.g., daily infections)\n",
    "  # observed_data = main_df['count_Infectious'].to_numpy()\n",
    "\n",
    "  # total_cases = main_df['count_Infectious'].sum()\n",
    "  \n",
    "  return main_df\n"
   ]
  },
  {
   "cell_type": "markdown",
   "metadata": {},
   "source": [
    "# Sim Anneal Code"
   ]
  },
  {
   "cell_type": "code",
   "execution_count": 5,
   "metadata": {},
   "outputs": [],
   "source": [
    "# Simulate SEIR model\n",
    "def simulate_seir(beta, sigma, gamma, y0, t, compartment):\n",
    "    N = 32841 # From searching (how to get from data?)\n",
    "    seir_model = SEIRModel(N, beta, sigma, gamma)\n",
    "    \n",
    "    # Solve ODEs for SEIR\n",
    "    result = odeint(seir_model, y0, t, args=(N, beta, sigma, gamma))\n",
    "    S, E, I, R = result.T\n",
    "    \n",
    "    if compartment == 'E':\n",
    "        return E\n",
    "    elif compartment == 'I':\n",
    "        return I\n",
    "    elif compartment == 'R':\n",
    "        return R\n",
    "    else:\n",
    "        print(\"HUH?\")\n",
    "        return I\n",
    "      \n",
    "\n",
    "# Objective function\n",
    "def objective_function(params, observed_data, initial_conditions, time_points, compartment):\n",
    "    beta, sigma, gamma = params\n",
    "\n",
    "    # Simulate the SEIR model with given parameters\n",
    "    predicted_data = simulate_seir(beta, sigma, gamma, initial_conditions, time_points, compartment)\n",
    "    #print(f\"pred: {len(predicted_data)} obs:{len(observed_data)}\")\n",
    "    r2 = r2_score(predicted_data, observed_data)\n",
    "    return r2\n",
    "\n",
    "\n",
    "# Simulated Annealing for SEIR parameter tuning\n",
    "def simulated_annealing_seir(observed_data, initial_conditions, time_points, temp, cooling_rate, max_iter, compartment):\n",
    "    # Initial parameter guesses\n",
    "    current_params = [0.3, 0.1, 0.1]  # Initial guesses for beta, sigma, gamma\n",
    "    current_cost = objective_function(current_params, observed_data, initial_conditions, time_points, compartment)\n",
    "    best_params = current_params\n",
    "    best_cost = current_cost\n",
    "\n",
    "    for i in range(max_iter):\n",
    "        # Generate new candidate parameters\n",
    "        new_params = [param + random.uniform(-0.005, 0.005) for param in current_params]\n",
    "        new_params = np.clip(new_params, 0, 1)  # Keep parameters in a valid range (0 to 1)\n",
    "\n",
    "        # Evaluate the new candidate solution\n",
    "        new_cost = objective_function(new_params, observed_data, initial_conditions, time_points, compartment)\n",
    "\n",
    "        # Decide whether to accept the new solution\n",
    "        if new_cost < current_cost or random.random() < np.exp((current_cost - new_cost) / temp):\n",
    "            current_params = new_params\n",
    "            current_cost = new_cost\n",
    "\n",
    "            # Update the best solution found so far\n",
    "            if new_cost < best_cost:\n",
    "                best_params = new_params\n",
    "                best_cost = new_cost\n",
    "\n",
    "        # Cool down the temperature\n",
    "        temp *= cooling_rate\n",
    "\n",
    "    return best_params, best_cost"
   ]
  },
  {
   "cell_type": "markdown",
   "metadata": {},
   "source": [
    "# Run Sim Anneal"
   ]
  },
  {
   "cell_type": "code",
   "execution_count": 6,
   "metadata": {},
   "outputs": [
    {
     "name": "stdout",
     "output_type": "stream",
     "text": [
      "Compartment: E\n",
      "Best parameters: Beta=1.000, Sigma=0.151, Gamma=0.790\n",
      "Best cost (r-squared): -1.192\n",
      "Compartment: I\n",
      "Best parameters: Beta=1.000, Sigma=1.000, Gamma=0.000\n",
      "Best cost (r-squared): -19.345\n",
      "Compartment: R\n",
      "Best parameters: Beta=1.000, Sigma=1.000, Gamma=0.168\n",
      "Best cost (r-squared): -12.284\n"
     ]
    }
   ],
   "source": [
    "brgy_name = \"LANDAYAN\"\n",
    "main_df: pd.DataFrame = load_df(\"CITY_OF_SAN_PEDRO_processed.csv\")\n",
    "main_observed: pd.DataFrame = load_observed(main_df, brgy_name) # Change to check for other Brgys.\n",
    "\n",
    "train_data = main_observed[(main_observed['date'] >= '01/01/2021') & (main_observed['date'] <= '10/01/2021')]\n",
    "test_data = main_observed[(main_observed['date'] > '10/02/2021') & (main_observed['date'] <= '12/31/2021')]\n",
    "\n",
    "df_observed_data = main_observed[(main_observed['date'] >= '01/01/2021') & (main_observed['date'] <= '12/31/2021')]\n",
    "\n",
    "# Initial parameters\n",
    "N = 33235  # Population from google search (how to get from data?)\n",
    "I0 = train_data['count_Infectious'].iloc[0] # Initial infected from data\n",
    "E0 = train_data['count_Exposed'].iloc[0] # Initial exposed cases\n",
    "R0 = train_data['count_Recovered'].iloc[0] # Initial recovered\n",
    "S0 = N - I0 - E0 - R0  # Susceptible\n",
    "\n",
    "initial_conditions: tuple = [S0, E0, I0, R0]\n",
    "\n",
    "# Time points\n",
    "time_points = np.arange(train_data.shape[0]) # odeint expects an array (vector) of integers.\n",
    "\n",
    "# Simulated Annealing parameters\n",
    "temp = 10000           # Initial temperature\n",
    "cooling_rate = 0.90   # Cooling rate\n",
    "max_iter = 10000       # Number of iterations\n",
    "\n",
    "parms_list = []\n",
    "cost_list = []\n",
    "\n",
    "observed_dict = {\n",
    "    \"E\": train_data['count_Exposed'].to_numpy(),\n",
    "    \"I\": train_data['count_Infectious'].to_numpy(),\n",
    "    \"R\": train_data['count_Recovered'].to_numpy()\n",
    "}\n",
    "\n",
    "for compartment, observed_data in observed_dict.items():\n",
    "    # Run the Simulated Annealing algorithm\n",
    "    best_params, best_cost = simulated_annealing_seir(observed_data, initial_conditions, time_points, temp, cooling_rate, max_iter, compartment)\n",
    "    parms_list.append(best_params)\n",
    "    cost_list.append(best_cost)\n",
    "    o_beta, o_sigma, o_gamma = best_params\n",
    "\n",
    "    # Display results\n",
    "    print(f\"Compartment: {compartment}\")\n",
    "    print(f\"Best parameters: Beta={o_beta:.3f}, Sigma={o_sigma:.3f}, Gamma={o_gamma:.3f}\")\n",
    "    print(f\"Best cost (r-squared): {best_cost:.3f}\")\n",
    "\n",
    "# o_beta, o_sigma, o_gamma = 0.951, 1.000, 0.168 # from best params\n",
    "# time_points = np.arange(df_observed_data.shape[0]) # odeint expects an array (vector) of integers.\n",
    "\n",
    "# plot_actual = pd.DataFrame({\n",
    "#     'date_train': train_data['date'],\n",
    "#     'date_test': test_data['date'],\n",
    "#     'train_exposed': train_data['count_Exposed'],\n",
    "#     'test_exposed': test_data['count_Exposed'],\n",
    "#     'train_infectious': train_data['count_Infectious'],\n",
    "#     'test_infectious': test_data['count_Infectious'],\n",
    "#     'train_recovered': train_data['count_Recovered'],\n",
    "#     'test_recovered': test_data['count_Recovered']\n",
    "# })\n",
    "\n",
    "# plot_prediction = pd.DataFrame({\n",
    "#     'date': df_observed_data['date']\n",
    "# })\n",
    "\n",
    "# # Visualize the results\n",
    "# for compartment in observed_dict.keys():\n",
    "#     predicted_data = simulate_seir(o_beta, o_sigma, o_gamma, initial_conditions, time_points, compartment)\n",
    "#     plot_prediction[compartment] = predicted_data    \n",
    "    \n",
    "\n",
    "# plt.figure(figsize=(12, 6))\n",
    "# plt.plot(plot_actual['date_train'], plot_actual['train_exposed'], 'r--', label='Train Exposed')\n",
    "# plt.plot(plot_actual['date_test'], plot_actual['test_exposed'], 'r-', label='Test Exposed')\n",
    "# plt.plot(plot_prediction['date'], plot_prediction['E'], 'ro', label='Predicted Exposed')\n",
    "# plt.plot(plot_actual['date_train'], plot_actual['train_infectious'], 'b--', label='Train Infectious')\n",
    "# plt.plot(plot_actual['date_test'], plot_actual['test_infectious'], 'b-', label='Test Infectious')\n",
    "# plt.plot(plot_prediction['date'], plot_prediction['I'], 'bo', label='Predicted Infected')\n",
    "# plt.plot(plot_actual['date_train'], plot_actual['train_recovered'], 'g--', label='Train Recovered')\n",
    "# plt.plot(plot_actual['date_test'], plot_actual['test_recovered'], 'g-', label='Test Recovered')\n",
    "# plt.plot(plot_prediction['date'], plot_prediction['R'], 'go', label='Predicted Recovered')\n",
    "# plt.xlabel('Days')\n",
    "# plt.ylabel('Population')\n",
    "# plt.legend()\n",
    "# plt.xticks(rotation=45)\n",
    "# plt.title(f'SEIR Model Fitting For {brgy_name}')\n",
    "# plt.show()"
   ]
  }
 ],
 "metadata": {
  "kernelspec": {
   "display_name": "Python 3",
   "language": "python",
   "name": "python3"
  },
  "language_info": {
   "codemirror_mode": {
    "name": "ipython",
    "version": 3
   },
   "file_extension": ".py",
   "mimetype": "text/x-python",
   "name": "python",
   "nbconvert_exporter": "python",
   "pygments_lexer": "ipython3",
   "version": "3.12.6"
  }
 },
 "nbformat": 4,
 "nbformat_minor": 2
}
