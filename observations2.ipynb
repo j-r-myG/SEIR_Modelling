{
 "cells": [
  {
   "cell_type": "markdown",
   "metadata": {},
   "source": [
    "# After creating anneal application"
   ]
  },
  {
   "cell_type": "markdown",
   "metadata": {},
   "source": [
    "## 1\n",
    "- very inconsistent\n",
    "- some are good, some are unusable\n",
    "\n",
    "### params\n",
    "combined_metric = (0.5 * mae_normalized) + (0.5 * rmse_normalized)\n",
    "\n",
    "new_params = [param + random.uniform(-0.01, 0.01) for param in current_params]\n",
    "\n",
    "temp = initial_temp / (1 + cooling_rate * i)  # Logarithmic decrease\n",
    "\n",
    "temp = 1500  \n",
    "cooling_rate = 0.95\n",
    "max_iter = 1500 \n",
    "\n",
    "brgy_train_data = brgy_data[(brgy_data['date'] >= '01/01/2021') & (brgy_data['date'] <= '07/01/2021')]\n",
    "brgy_test_data = brgy_data[(brgy_data['date'] >= '07/02/2021') & (brgy_data['date'] <= '12/31/2022')]\n",
    "\n",
    "\n",
    "### results\n",
    "Skipping SANTO NINO: No data available.\n",
    "Best MAE: 1.4974950809369834\n",
    "Worst MAE: 64.4674723146775\n",
    "Average MAE: 11.47215870102206\n",
    "Best RMSE: 1.8561677240750443\n",
    "Worst RMSE: 78.57676563487291\n",
    "Average RMSE: 15.111148757612238\n"
   ]
  },
  {
   "cell_type": "markdown",
   "metadata": {},
   "source": [
    "## 2\n",
    "- changed split, also only infectious in objective func\n",
    "- better outcomes overall\n",
    "- some are still really bad\n",
    "- the good ones follow the trend of the first spike\n",
    "- succeeding spikes are not followed\n",
    "\n",
    "### params\n",
    "combined_metric = (0.5 * mae_normalized) + (0.5 * rmse_normalized)\n",
    "\n",
    "new_params = [param + random.uniform(-0.05, 0.05) for param in current_params]\n",
    "\n",
    "temp = initial_temp / (1 + cooling_rate * i)  # Logarithmic decrease\n",
    "\n",
    "temp = 1500  \n",
    "cooling_rate = 0.95\n",
    "max_iter = 1500 \n",
    "\n",
    "train_data = main_df[(main_df['date'] >= '01/01/2021') & (main_df['date'] <= '05/01/2021')]\n",
    "test_data = main_df[(main_df['date'] >= '05/02/2021') & (main_df['date'] <= '12/31/2021')]\n",
    "\n",
    "\n",
    "### results\n",
    "Skipping SANTO NINO: No data available.\n",
    "Best MAE: 0.6363636363636364\n",
    "Worst MAE: 50.07842798718978\n",
    "Average MAE: 9.29314070791538\n",
    "Best RMSE: 1.3446332554575908\n",
    "Worst RMSE: 76.45179022250227\n",
    "Average RMSE: 13.20178112640851\n"
   ]
  }
 ],
 "metadata": {
  "language_info": {
   "name": "python"
  }
 },
 "nbformat": 4,
 "nbformat_minor": 2
}
