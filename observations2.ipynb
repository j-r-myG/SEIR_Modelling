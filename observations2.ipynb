{
 "cells": [
  {
   "cell_type": "markdown",
   "metadata": {},
   "source": [
    "# After creating anneal application"
   ]
  },
  {
   "cell_type": "markdown",
   "metadata": {},
   "source": [
    "## 1\n",
    "- very inconsistent\n",
    "- some are good, some are unusable\n",
    "\n",
    "### params\n",
    "combined_metric = (0.5 * mae_normalized) + (0.5 * rmse_normalized)\n",
    "\n",
    "new_params = [param + random.uniform(-0.01, 0.01) for param in current_params]\n",
    "\n",
    "temp = initial_temp / (1 + cooling_rate * i)  # Logarithmic decrease\n",
    "\n",
    "temp = 1500  \n",
    "cooling_rate = 0.95\n",
    "max_iter = 1500 \n",
    "\n",
    "### results\n",
    "Skipping SANTO NINO: No data available.\n",
    "Best MAE: 1.4974950809369834\n",
    "Worst MAE: 64.4674723146775\n",
    "Average MAE: 11.47215870102206\n",
    "Best RMSE: 1.8561677240750443\n",
    "Worst RMSE: 78.57676563487291\n",
    "Average RMSE: 15.111148757612238\n"
   ]
  }
 ],
 "metadata": {
  "language_info": {
   "name": "python"
  }
 },
 "nbformat": 4,
 "nbformat_minor": 2
}
