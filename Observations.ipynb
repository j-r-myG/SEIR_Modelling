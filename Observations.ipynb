{
 "cells": [
  {
   "cell_type": "markdown",
   "metadata": {},
   "source": [
    "# Observations"
   ]
  },
  {
   "cell_type": "markdown",
   "metadata": {},
   "source": [
    "# 1\n",
    "## Params\n",
    "train_data = main_observed[(main_observed['date'] >= '01/01/2020') & (main_observed['date'] <= '01/01/2022')]\n",
    "test_data = main_observed[(main_observed['date'] > '01/02/2022') & (main_observed['date'] <= '12/31/2022')]\n",
    "\n",
    "df_observed_data = main_observed[(main_observed['date'] >= '01/01/2020') & (main_observed['date'] <= '12/31/2022')]\n",
    "\n",
    "temp = 1000  \n",
    "cooling_rate = 0.90\n",
    "max_iter = 1000  \n",
    "\n",
    "new_params = [param + random.uniform(-0.001, 0.001) for param in current_params]\n",
    "\n",
    "## Results\n",
    "Compartment: E\n",
    "Best parameters: Beta=0.243, Sigma=0.169, Gamma=0.227\n",
    "Best cost: 180.90\n",
    "Final Temp: 1.11e+00\n",
    "\n",
    "\n",
    "Compartment: I\n",
    "Best parameters: Beta=0.258, Sigma=0.099, Gamma=0.230\n",
    "Best cost: 467.42\n",
    "Final Temp: 1.11e+00\n",
    "\n",
    "\n",
    "Compartment: R\n",
    "Best parameters: Beta=0.247, Sigma=0.107, Gamma=0.222\n",
    "Best cost: 5368.60\n",
    "Final Temp: 1.11e+00"
   ]
  },
  {
   "cell_type": "markdown",
   "metadata": {},
   "source": []
  }
 ],
 "metadata": {
  "language_info": {
   "name": "python"
  }
 },
 "nbformat": 4,
 "nbformat_minor": 2
}
